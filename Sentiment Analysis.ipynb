{
  "nbformat": 4,
  "nbformat_minor": 0,
  "metadata": {
    "colab": {
      "provenance": []
    },
    "kernelspec": {
      "name": "python3",
      "display_name": "Python 3"
    },
    "language_info": {
      "name": "python"
    }
  },
  "cells": [
    {
      "cell_type": "code",
      "execution_count": 111,
      "metadata": {
        "colab": {
          "base_uri": "https://localhost:8080/"
        },
        "id": "JUoIsg6IYAFu",
        "outputId": "41913a02-cc37-4011-ab74-f453b688c155"
      },
      "outputs": [
        {
          "output_type": "stream",
          "name": "stderr",
          "text": [
            "[nltk_data] Downloading package stopwords to /root/nltk_data...\n",
            "[nltk_data]   Package stopwords is already up-to-date!\n",
            "[nltk_data] Downloading package punkt to /root/nltk_data...\n",
            "[nltk_data]   Package punkt is already up-to-date!\n"
          ]
        },
        {
          "output_type": "execute_result",
          "data": {
            "text/plain": [
              "True"
            ]
          },
          "metadata": {},
          "execution_count": 111
        }
      ],
      "source": [
        "# Import necessary libraries\n",
        "\n",
        "# pandas: Data manipulation and analysis library\n",
        "# Used for loading, cleaning, and manipulating the dataset\n",
        "import pandas as pd\n",
        "\n",
        "# numpy: Numerical computing library\n",
        "# Used for numerical operations and array manipulations\n",
        "import numpy as np\n",
        "\n",
        "# scikit-learn: Machine learning library\n",
        "# We import several modules from scikit-learn:\n",
        "\n",
        "# train_test_split: Function to split data into training and testing sets\n",
        "from sklearn.model_selection import train_test_split\n",
        "\n",
        "# TfidfVectorizer: Transforms text to TF-IDF features\n",
        "from sklearn.feature_extraction.text import TfidfVectorizer\n",
        "\n",
        "# LogisticRegression: Implementation of logistic regression algorithm\n",
        "from sklearn.linear_model import LogisticRegression\n",
        "\n",
        "# GridSearchCV: Performs exhaustive search over specified parameter values for an estimator\n",
        "# learning_curve: Determines cross-validated training and test scores for different training set sizes\n",
        "from sklearn.model_selection import GridSearchCV, learning_curve\n",
        "\n",
        "# Various metrics for model evaluation\n",
        "from sklearn.metrics import accuracy_score, precision_score, recall_score, f1_score, confusion_matrix\n",
        "\n",
        "# nltk: Natural Language Toolkit\n",
        "# Used for text preprocessing tasks\n",
        "import nltk\n",
        "from nltk.corpus import stopwords  # Provides a set of stopwords in various languages\n",
        "from nltk.stem import PorterStemmer  # Implementation of the Porter stemming algorithm\n",
        "\n",
        "# matplotlib: Plotting library\n",
        "# Used for creating visualizations like learning curves and confusion matrices\n",
        "import matplotlib.pyplot as plt\n",
        "\n",
        "# Download necessary NLTK data\n",
        "# These are required for tokenization and stopword removal\n",
        "nltk.download('stopwords')\n",
        "nltk.download('punkt')\n"
      ]
    },
    {
      "cell_type": "code",
      "source": [
        "##### YOUR CODE STARTS HERE #####\n",
        "# Load the data using pandas. Make sure the 'data.csv' file is in your working directory\n",
        "# or provide the full path to the file.\n",
        "# For more information on pandas, see: https://pandas.pydata.org/docs/getting_started/intro_tutorials/index.html\n",
        "\n",
        "data =pd.read_csv('data.csv')\n",
        "\n",
        "##### YOUR CODE ENDS HERE #####\n",
        "\n",
        "# Display the first 5 rows of the dataset to understand its structure\n",
        "print(data.head())"
      ],
      "metadata": {
        "colab": {
          "base_uri": "https://localhost:8080/"
        },
        "id": "zY3cCZ1oZ1yd",
        "outputId": "f2c5e7dc-08d6-4d71-8f29-e2a04c546b1a"
      },
      "execution_count": 112,
      "outputs": [
        {
          "output_type": "stream",
          "name": "stdout",
          "text": [
            "                                                text    sentiment\n",
            "0   Enjoying a beautiful day at the park!        ...   Positive  \n",
            "1   Traffic was terrible this morning.           ...   Negative  \n",
            "2   Just finished an amazing workout! 💪          ...   Positive  \n",
            "3   Excited about the upcoming weekend getaway!  ...   Positive  \n",
            "4   Trying out a new recipe for dinner tonight.  ...   Neutral   \n"
          ]
        }
      ]
    },
    {
      "cell_type": "code",
      "source": [
        "##### YOUR CODE STARTS HERE #####\n",
        "\n",
        "# Check for missing values\n",
        "print(\"Missing values in each column:\")\n",
        "print(data.isnull().sum())\n",
        "# Drop missing values if any\n",
        "data = data.dropna()\n",
        "\n",
        "# Check for duplicates\n",
        "print(\"Number of duplicate rows before dropping:\", data.duplicated().sum())\n",
        "# Drop duplicates\n",
        "data = data.drop_duplicates()\n",
        "\n",
        "##### YOUR CODE ENDS HERE #####"
      ],
      "metadata": {
        "colab": {
          "base_uri": "https://localhost:8080/"
        },
        "id": "bfymB4xAaimD",
        "outputId": "35414af2-f655-4da7-8717-c39bdb4611e3"
      },
      "execution_count": 113,
      "outputs": [
        {
          "output_type": "stream",
          "name": "stdout",
          "text": [
            "Missing values in each column:\n",
            "text         0\n",
            "sentiment    0\n",
            "dtype: int64\n",
            "Number of duplicate rows before dropping: 25\n"
          ]
        }
      ]
    },
    {
      "cell_type": "code",
      "source": [
        "##### YOUR CODE STARTS HERE #####\n",
        "\n",
        "# Split the data into features (X) and target (y)\n",
        "# Set the features to the text column and target to the sentiment columns\n",
        "X = data['text']\n",
        "y = data['sentiment']\n",
        "##### YOUR CODE ENDS HERE #####"
      ],
      "metadata": {
        "id": "u_LW6E2XboKK"
      },
      "execution_count": 114,
      "outputs": []
    },
    {
      "cell_type": "code",
      "source": [
        "##### YOUR CODE STARTS HERE #####\n",
        "\n",
        "# Split the data into training (80%) and temporary set (20%)\n",
        "X_train, x_temp, y_train, y_temp = train_test_split(X, y, test_size=0.2, random_state=42)\n",
        "# Split the temporary set into validation (50%) and test (50%)\n",
        "X_val, X_test, y_val, y_test = train_test_split(x_temp, y_temp, test_size=0.5, random_state=42)\n",
        "\n",
        "##### YOUR CODE ENDS HERE #####"
      ],
      "metadata": {
        "id": "BKamCjOdb5pJ"
      },
      "execution_count": 115,
      "outputs": []
    },
    {
      "cell_type": "code",
      "source": [
        "##### YOUR CODE STARTS HERE #####\n",
        "\n",
        "# Apply the preprocess_text function to the text columns of the training, validation, and test sets\n",
        "X_train = X_train.apply(preprocess_text)\n",
        "X_val = X_val.apply(preprocess_text)\n",
        "X_test = X_test.apply(preprocess_text)\n",
        "\n",
        "##### YOUR CODE ENDS HERE #####"
      ],
      "metadata": {
        "id": "M_2KscNJdmDA"
      },
      "execution_count": 116,
      "outputs": []
    },
    {
      "cell_type": "code",
      "source": [
        "# TF-IDF (Term Frequency-Inverse Document Frequency) is a numerical statistic that reflects\n",
        "# the importance of a word in a document within a collection or corpus\n",
        "# For more information, see: https://scikit-learn.org/stable/modules/generated/sklearn.feature_extraction.text.TfidfVectorizer.html\n",
        "\n",
        "##### YOUR CODE STARTS HERE #####\n",
        "\n",
        "# Create an instance of the TfidfVectorizer\n",
        "tfidf_vectorizer = TfidfVectorizer()\n",
        "\n",
        "# Fit the vectorizer on the training data and transform the training data\n",
        "X_train_tfidf = tfidf_vectorizer.fit_transform(X_train)\n",
        "\n",
        "# Transform the validation and test data using the fitted vectorizer\n",
        "X_val_tfidf = tfidf_vectorizer.transform(X_val)\n",
        "X_test_tfidf = tfidf_vectorizer.transform(X_test)\n",
        "\n",
        "##### YOUR CODE ENDS HERE #####"
      ],
      "metadata": {
        "id": "FTnE6YQpeBy9"
      },
      "execution_count": 117,
      "outputs": []
    },
    {
      "cell_type": "code",
      "source": [
        "# We use LogisticRegression for multi-class classification\n",
        "# For more information, see: https://scikit-learn.org/stable/modules/generated/sklearn.linear_model.LogisticRegression.html\n",
        "##### YOUR CODE STARTS HERE #####\n",
        "\n",
        "# Create an instance of the LogisticRegression classifier\n",
        "clf = LogisticRegression(max_iter=1000)\n",
        "\n",
        "# Fit the classifier on the training data\n",
        "clf.fit(X_train_tfidf, y_train)\n",
        "\n",
        "# Predict the sentiment on the validation set\n",
        "val_predictions = clf.predict(X_val_tfidf)\n",
        "\n",
        "# Calculate the accuracy of the model on the validation set\n",
        "val_accuracy = accuracy_score(y_val, val_predictions)\n",
        "\n",
        "\n",
        "##### YOUR CODE ENDS HERE #####\n",
        "print(f\"Validation Accuracy: {val_accuracy}\")"
      ],
      "metadata": {
        "colab": {
          "base_uri": "https://localhost:8080/"
        },
        "id": "GBsW4xise2_T",
        "outputId": "d73391f7-305e-4822-c043-362709dbae1f"
      },
      "execution_count": 118,
      "outputs": [
        {
          "output_type": "stream",
          "name": "stdout",
          "text": [
            "Validation Accuracy: 0.6338028169014085\n"
          ]
        }
      ]
    },
    {
      "cell_type": "code",
      "source": [
        "# plot the learning curve of the model to examine bias and variance\n",
        "# Plot learning curve to assess overfitting/underfitting\n",
        "def plot_learning_curve(estimator, X, y, cv=5):\n",
        "    train_sizes, train_scores, val_scores = learning_curve(\n",
        "        estimator, X, y, cv=cv, n_jobs=-1, train_sizes=np.linspace(.1, 1.0, 5))\n",
        "\n",
        "    train_scores_mean = np.mean(train_scores, axis=1)\n",
        "    train_scores_std = np.std(train_scores, axis=1)\n",
        "    val_scores_mean = np.mean(val_scores, axis=1)\n",
        "    val_scores_std = np.std(val_scores, axis=1)\n",
        "\n",
        "    plt.figure(figsize=(10, 6))\n",
        "    plt.title(\"Learning Curve\")\n",
        "    plt.xlabel(\"Training examples\")\n",
        "    plt.ylabel(\"Score\")\n",
        "    plt.grid()\n",
        "\n",
        "    plt.fill_between(train_sizes, train_scores_mean - train_scores_std,\n",
        "                     train_scores_mean + train_scores_std, alpha=0.1, color=\"r\")\n",
        "    plt.fill_between(train_sizes, val_scores_mean - val_scores_std,\n",
        "                     val_scores_mean + val_scores_std, alpha=0.1, color=\"g\")\n",
        "    plt.plot(train_sizes, train_scores_mean, 'o-', color=\"r\", label=\"Training score\")\n",
        "    plt.plot(train_sizes, val_scores_mean, 'o-', color=\"g\", label=\"Cross-validation score\")\n",
        "\n",
        "    plt.legend(loc=\"best\")\n",
        "    plt.show()\n",
        "\n",
        "\n",
        "##### YOUR CODE STARTS HERE #####\n",
        "\n",
        "# Plot the learning curve for the trained model, pass the needed parameters model, train features and train target\n",
        "plot_learning_curve(clf, X_train_tfidf, y_train)\n",
        "\n",
        "##### YOUR CODE ENDS HERE #####"
      ],
      "metadata": {
        "id": "ROMNwGXmifFA",
        "colab": {
          "base_uri": "https://localhost:8080/",
          "height": 602
        },
        "outputId": "a292fcf1-326c-4506-839a-42db77ba9d9d"
      },
      "execution_count": 119,
      "outputs": [
        {
          "output_type": "stream",
          "name": "stderr",
          "text": [
            "/usr/local/lib/python3.10/dist-packages/sklearn/model_selection/_split.py:776: UserWarning: The least populated class in y has only 1 members, which is less than n_splits=5.\n",
            "  warnings.warn(\n"
          ]
        },
        {
          "output_type": "display_data",
          "data": {
            "text/plain": [
              "<Figure size 1000x600 with 1 Axes>"
            ],
            "image/png": "[encoded data removed]"
          },
          "metadata": {}
        }
      ]
    },
    {
      "cell_type": "markdown",
      "source": [
        "Does your model suffer from overfitting (high variance) or underfitting (high bias) or neither and why?\n",
        "Given the validation accuracy of 63.4%, it’s evident that the model is experiencing underfitting. This means it’s likely too simple or hasn’t been trained enough to make accurate predictions. The 25 duplicate rows in the dataset might also be playing a role in this problem. As we move forward, we’ll focus on tuning hyperparameters and exploring feature engineering to tackle these issues."
      ],
      "metadata": {
        "id": "EN8GLE6HgH2W"
      }
    },
    {
      "cell_type": "code",
      "source": [
        "# use gridsearch to find the best combination of hyperparameters\n",
        "# We use GridSearchCV to find the best combination of hyperparameters\n",
        "# For more information, see: https://scikit-learn.org/stable/modules/generated/sklearn.model_selection.GridSearchCV.html\n",
        "\n",
        "##### YOUR CODE STARTS HERE #####\n",
        "\n",
        "# Define the parameter grid to search\n",
        "param_grid = {\n",
        "    'C': [0.001, 0.01, 0.1, 1, 10, 100],  # Inverse of regularization strength\n",
        "    'penalty': ['l2', 'elasticnet'],  # Type of regularization\n",
        "    'solver': ['lbfgs', 'liblinear', 'saga']  # Algorithm to use in optimization\n",
        "}\n",
        "\n",
        "# Create an instance of the LogisticRegression classifier\n",
        "clf = LogisticRegression(max_iter=1000)\n",
        "\n",
        "# Fit the grid search to the training data\n",
        "grid_search = GridSearchCV(estimator=clf, param_grid=param_grid, cv=5, scoring='accuracy', n_jobs=-1)\n",
        "grid_search.fit(X_train_tfidf, y_train)\n",
        "##### YOUR CODE ENDS HERE #####\n",
        "\n",
        "print(\"Best parameters:\", grid_search.best_params_)\n",
        "print(\"Best cross-validation score:\", grid_search.best_score_)\n"
      ],
      "metadata": {
        "colab": {
          "base_uri": "https://localhost:8080/"
        },
        "id": "GkFYPCTMihVG",
        "outputId": "ed22fc33-604a-4a06-a488-d40aca498964"
      },
      "execution_count": 120,
      "outputs": [
        {
          "output_type": "stream",
          "name": "stderr",
          "text": [
            "/usr/local/lib/python3.10/dist-packages/sklearn/model_selection/_split.py:776: UserWarning: The least populated class in y has only 1 members, which is less than n_splits=5.\n",
            "  warnings.warn(\n"
          ]
        },
        {
          "output_type": "stream",
          "name": "stdout",
          "text": [
            "Best parameters: {'C': 100, 'penalty': 'l2', 'solver': 'liblinear'}\n",
            "Best cross-validation score: 0.7380530973451328\n"
          ]
        },
        {
          "output_type": "stream",
          "name": "stderr",
          "text": [
            "/usr/local/lib/python3.10/dist-packages/sklearn/model_selection/_validation.py:540: FitFailedWarning: \n",
            "90 fits failed out of a total of 180.\n",
            "The score on these train-test partitions for these parameters will be set to nan.\n",
            "If these failures are not expected, you can try to debug them by setting error_score='raise'.\n",
            "\n",
            "Below are more details about the failures:\n",
            "--------------------------------------------------------------------------------\n",
            "30 fits failed with the following error:\n",
            "Traceback (most recent call last):\n",
            "  File \"/usr/local/lib/python3.10/dist-packages/sklearn/model_selection/_validation.py\", line 888, in _fit_and_score\n",
            "    estimator.fit(X_train, y_train, **fit_params)\n",
            "  File \"/usr/local/lib/python3.10/dist-packages/sklearn/base.py\", line 1473, in wrapper\n",
            "    return fit_method(estimator, *args, **kwargs)\n",
            "  File \"/usr/local/lib/python3.10/dist-packages/sklearn/linear_model/_logistic.py\", line 1194, in fit\n",
            "    solver = _check_solver(self.solver, self.penalty, self.dual)\n",
            "  File \"/usr/local/lib/python3.10/dist-packages/sklearn/linear_model/_logistic.py\", line 67, in _check_solver\n",
            "    raise ValueError(\n",
            "ValueError: Solver lbfgs supports only 'l2' or None penalties, got elasticnet penalty.\n",
            "\n",
            "--------------------------------------------------------------------------------\n",
            "30 fits failed with the following error:\n",
            "Traceback (most recent call last):\n",
            "  File \"/usr/local/lib/python3.10/dist-packages/sklearn/model_selection/_validation.py\", line 888, in _fit_and_score\n",
            "    estimator.fit(X_train, y_train, **fit_params)\n",
            "  File \"/usr/local/lib/python3.10/dist-packages/sklearn/base.py\", line 1473, in wrapper\n",
            "    return fit_method(estimator, *args, **kwargs)\n",
            "  File \"/usr/local/lib/python3.10/dist-packages/sklearn/linear_model/_logistic.py\", line 1194, in fit\n",
            "    solver = _check_solver(self.solver, self.penalty, self.dual)\n",
            "  File \"/usr/local/lib/python3.10/dist-packages/sklearn/linear_model/_logistic.py\", line 75, in _check_solver\n",
            "    raise ValueError(\n",
            "ValueError: Only 'saga' solver supports elasticnet penalty, got solver=liblinear.\n",
            "\n",
            "--------------------------------------------------------------------------------\n",
            "30 fits failed with the following error:\n",
            "Traceback (most recent call last):\n",
            "  File \"/usr/local/lib/python3.10/dist-packages/sklearn/model_selection/_validation.py\", line 888, in _fit_and_score\n",
            "    estimator.fit(X_train, y_train, **fit_params)\n",
            "  File \"/usr/local/lib/python3.10/dist-packages/sklearn/base.py\", line 1473, in wrapper\n",
            "    return fit_method(estimator, *args, **kwargs)\n",
            "  File \"/usr/local/lib/python3.10/dist-packages/sklearn/linear_model/_logistic.py\", line 1204, in fit\n",
            "    raise ValueError(\"l1_ratio must be specified when penalty is elasticnet.\")\n",
            "ValueError: l1_ratio must be specified when penalty is elasticnet.\n",
            "\n",
            "  warnings.warn(some_fits_failed_message, FitFailedWarning)\n",
            "/usr/local/lib/python3.10/dist-packages/sklearn/model_selection/_search.py:1103: UserWarning: One or more of the test scores are non-finite: [0.49026549 0.49026549 0.49026549        nan        nan        nan\n",
            " 0.49026549 0.49026549 0.49026549        nan        nan        nan\n",
            " 0.49026549 0.49026549 0.49026549        nan        nan        nan\n",
            " 0.63893805 0.58230088 0.63716814        nan        nan        nan\n",
            " 0.72389381 0.72035398 0.72389381        nan        nan        nan\n",
            " 0.73628319 0.7380531  0.7380531         nan        nan        nan]\n",
            "  warnings.warn(\n"
          ]
        }
      ]
    },
    {
      "cell_type": "code",
      "source": [
        "##### YOUR CODE STARTS HERE #####\n",
        "\n",
        "# validate the accuracy of your best selected model\n",
        "# Use the best model found by GridSearchCV\n",
        "best_model = grid_search.best_estimator_\n",
        "\n",
        "# Predict the sentiment on the test set\n",
        "test_predictions = best_model.predict(X_test_tfidf)\n",
        "\n",
        "##### YOUR CODE ENDS HERE #####\n",
        "\n",
        "# Calculate evaluation metrics\n",
        "# For more information on these metrics, see: https://scikit-learn.org/stable/modules/model_evaluation.html\n",
        "accuracy = accuracy_score(y_test, test_predictions)\n",
        "precision = precision_score(y_test, test_predictions, average='weighted')\n",
        "recall = recall_score(y_test, test_predictions, average='weighted')\n",
        "f1 = f1_score(y_test, test_predictions, average='weighted')\n",
        "\n",
        "print(f\"Test Accuracy: {accuracy}\")\n",
        "print(f\"Test Precision: {precision}\")\n",
        "print(f\"Test Recall: {recall}\")\n",
        "print(f\"Test F1-score: {f1}\")\n"
      ],
      "metadata": {
        "colab": {
          "base_uri": "https://localhost:8080/"
        },
        "id": "xLssJrYci8mK",
        "outputId": "3f1f2391-6e9e-48a7-fdb7-08b67a551ebe"
      },
      "execution_count": 121,
      "outputs": [
        {
          "output_type": "stream",
          "name": "stdout",
          "text": [
            "Test Accuracy: 0.8591549295774648\n",
            "Test Precision: 0.8475580757270897\n",
            "Test Recall: 0.8591549295774648\n",
            "Test F1-score: 0.8497540503854248\n"
          ]
        },
        {
          "output_type": "stream",
          "name": "stderr",
          "text": [
            "/usr/local/lib/python3.10/dist-packages/sklearn/metrics/_classification.py:1531: UndefinedMetricWarning: Precision is ill-defined and being set to 0.0 in labels with no predicted samples. Use `zero_division` parameter to control this behavior.\n",
            "  _warn_prf(average, modifier, f\"{metric.capitalize()} is\", len(result))\n",
            "/usr/local/lib/python3.10/dist-packages/sklearn/metrics/_classification.py:1531: UndefinedMetricWarning: Recall is ill-defined and being set to 0.0 in labels with no true samples. Use `zero_division` parameter to control this behavior.\n",
            "  _warn_prf(average, modifier, f\"{metric.capitalize()} is\", len(result))\n"
          ]
        }
      ]
    },
    {
      "cell_type": "markdown",
      "source": [
        "As a conclusion the validation accuracy of 63.4% suggested the model might be underfitting. However, after tuning the hyperparameters, we saw a significant improvement: the best cross-validation score rose to 73.8%, and the test accuracy climbed to 85.9%.\n",
        "\n",
        "These results indicate that the model is now effectively capturing the key patterns in the data and generalizing well to unseen examples. so the  model is performing well, without signs of overfitting or underfitting."
      ],
      "metadata": {
        "id": "nI8XefkMAdVG"
      }
    }
  ]
}